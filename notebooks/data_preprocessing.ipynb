{
 "cells": [
  {
   "cell_type": "code",
   "execution_count": null,
   "id": "initial_id",
   "metadata": {
    "collapsed": true
   },
   "outputs": [],
   "source": [
    "#Title: Data Preprocesing for LLM Training\n",
    "\n",
    "# 1. Introduction \n",
    "\n",
    "\"\"\"\n",
    "This notebook demonstrates the data preprocessing steps reqired for training a machine learning model\n",
    "\"\"\"\n",
    "\n",
    "# 2. Import Libraries\n",
    "import pandas as pd\n",
    "from utils.data_utils import load_data, preprocess_data, split_data, save_preprocessed_data\n",
    "\n",
    "# 3. Load Data\n",
    "\"\"\"\n",
    "Load the dataset from the specified file.\n",
    "\"\"\"\n",
    "\n",
    "input_file = 'data/raw/dataset.csv'\n",
    "df = load_data(input_file)\n",
    "df.head()\n",
    "\n",
    "#4. Preprocessing Data\n",
    "\"\"\"\n",
    "Clean the text data and handle missing values.\n",
    "\"\"\"\n",
    "\n",
    "text_column = 'text'\n",
    "df = preprocess_data(df, text_column)\n",
    "df.head()\n",
    "\n",
    "\n",
    "# 5. Split Data\n",
    "\"\"\"\n",
    "Split the data into training and test sets.\n",
    "\"\"\"\n",
    "train_df, test_df = split_data(df, text_size=0.2)\n",
    "print(f\"Train data shape: {train_df.shape}\")\n",
    "print(f\"Test data: {test_df.shape}\")\n",
    "\n",
    "# 6. Save Processed Data\n",
    "\"\"\"\n",
    "Save the preprocessed data into a pickle file.\n",
    "\"\"\"\n",
    "\n",
    "output_dir = 'data/processed/'\n",
    "train_file_path = f'{output_dir}train.csv'\n",
    "test_file_path = f'{output_dir}test.csv'\n",
    "save_preprocessed_data(train_df, train_file_path)\n",
    "save_preprocessed_data(test_df, test_file_path)\n",
    "print(f\"Processed data saved to {train_file_path} and {train_df.shape}\")\n"
   ]
  }
 ],
 "metadata": {
  "kernelspec": {
   "display_name": "Python 3",
   "language": "python",
   "name": "python3"
  },
  "language_info": {
   "codemirror_mode": {
    "name": "ipython",
    "version": 2
   },
   "file_extension": ".py",
   "mimetype": "text/x-python",
   "name": "python",
   "nbconvert_exporter": "python",
   "pygments_lexer": "ipython2",
   "version": "2.7.6"
  }
 },
 "nbformat": 4,
 "nbformat_minor": 5
}
